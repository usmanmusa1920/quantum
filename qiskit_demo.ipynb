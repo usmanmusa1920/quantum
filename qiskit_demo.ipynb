{
 "cells": [
  {
   "cell_type": "code",
   "execution_count": 1,
   "id": "96c71724-83f8-4bed-968a-d8684e167fb3",
   "metadata": {
    "editable": true,
    "slideshow": {
     "slide_type": ""
    },
    "tags": []
   },
   "outputs": [
    {
     "data": {
      "text/html": [
       "<pre style=\"word-wrap: normal;white-space: pre;background: #fff0;line-height: 1.1;font-family: &quot;Courier New&quot;,Courier,monospace\">       ┌───┐┌───┐┌───┐┌───┐\n",
       "usman: ┤ H ├┤ S ├┤ H ├┤ T ├\n",
       "       └───┘└───┘└───┘└───┘</pre>"
      ],
      "text/plain": [
       "       ┌───┐┌───┐┌───┐┌───┐\n",
       "usman: ┤ H ├┤ S ├┤ H ├┤ T ├\n",
       "       └───┘└───┘└───┘└───┘"
      ]
     },
     "execution_count": 1,
     "metadata": {},
     "output_type": "execute_result"
    }
   ],
   "source": [
    "from qiskit import QuantumCircuit, QuantumRegister\n",
    "\n",
    "r = QuantumRegister(1, \"usman\")\n",
    "circuit = QuantumCircuit(r)\n",
    "circuit.h(r)\n",
    "circuit.s(r)\n",
    "circuit.h(r)\n",
    "circuit.t(r)\n",
    "circuit.draw()\n",
    "# print(help(QuantumRegister))"
   ]
  },
  {
   "cell_type": "code",
   "execution_count": 2,
   "id": "1c064493-d24c-4f49-b35e-e531d63b9d75",
   "metadata": {},
   "outputs": [
    {
     "data": {
      "image/png": "[encoded data removed]",
      "text/plain": [
       "<Figure size 533.641x200.667 with 1 Axes>"
      ]
     },
     "execution_count": 2,
     "metadata": {},
     "output_type": "execute_result"
    }
   ],
   "source": [
    "from qiskit import QuantumCircuit, QuantumRegister\n",
    "\n",
    "r = QuantumRegister(2, \"usman\")\n",
    "circuit = QuantumCircuit(r)\n",
    "circuit.h(r)\n",
    "circuit.s(r)\n",
    "circuit.h(r)\n",
    "circuit.t(r)\n",
    "circuit.draw(output='mpl')\n",
    "# print(dir(circuit))"
   ]
  },
  {
   "cell_type": "code",
   "execution_count": 3,
   "id": "93684f15-d019-4124-b2f0-18809ccf9c72",
   "metadata": {
    "editable": true,
    "slideshow": {
     "slide_type": ""
    },
    "tags": []
   },
   "outputs": [
    {
     "data": {
      "image/png": "[encoded data removed]",
      "text/plain": [
       "<Figure size 729.507x284.278 with 1 Axes>"
      ]
     },
     "execution_count": 3,
     "metadata": {},
     "output_type": "execute_result"
    }
   ],
   "source": [
    "from qiskit import QuantumCircuit, QuantumRegister, ClassicalRegister\n",
    "\n",
    "q = QuantumRegister(2, \"q-usman\")\n",
    "c = ClassicalRegister(2, \"c-usman\")\n",
    "circuit = QuantumCircuit(q, c)\n",
    "circuit.h(q)\n",
    "circuit.s(q)\n",
    "circuit.h(q)\n",
    "circuit.t(q)\n",
    "# print(help(circuit.measure))\n",
    "circuit.measure(q,c)\n",
    "circuit.draw(output='mpl')\n",
    "# print(dir(circuit))"
   ]
  },
  {
   "cell_type": "code",
   "execution_count": 4,
   "id": "93926263-7885-444f-8bd8-68ef64013a8f",
   "metadata": {},
   "outputs": [
    {
     "data": {
      "text/html": [
       "<pre style=\"word-wrap: normal;white-space: pre;background: #fff0;line-height: 1.1;font-family: &quot;Courier New&quot;,Courier,monospace\">           ┌───┐┌───┐┌───┐┌───┐┌─┐   \n",
       "q-usman_0: ┤ H ├┤ S ├┤ H ├┤ T ├┤M├───\n",
       "           ├───┤├───┤├───┤├───┤└╥┘┌─┐\n",
       "q-usman_1: ┤ H ├┤ S ├┤ H ├┤ T ├─╫─┤M├\n",
       "           └───┘└───┘└───┘└───┘ ║ └╥┘\n",
       "c-usman: 2/═════════════════════╩══╩═\n",
       "                                0  1 </pre>"
      ],
      "text/plain": [
       "           ┌───┐┌───┐┌───┐┌───┐┌─┐   \n",
       "q-usman_0: ┤ H ├┤ S ├┤ H ├┤ T ├┤M├───\n",
       "           ├───┤├───┤├───┤├───┤└╥┘┌─┐\n",
       "q-usman_1: ┤ H ├┤ S ├┤ H ├┤ T ├─╫─┤M├\n",
       "           └───┘└───┘└───┘└───┘ ║ └╥┘\n",
       "c-usman: 2/═════════════════════╩══╩═\n",
       "                                0  1 "
      ]
     },
     "execution_count": 4,
     "metadata": {},
     "output_type": "execute_result"
    }
   ],
   "source": [
    "circuit.draw()"
   ]
  },
  {
   "cell_type": "code",
   "execution_count": 5,
   "id": "f7be68a8-9bc7-4eb4-b237-52f996d606e4",
   "metadata": {},
   "outputs": [
    {
     "data": {
      "text/html": [
       "<pre style=\"word-wrap: normal;white-space: pre;background: #fff0;line-height: 1.1;font-family: &quot;Courier New&quot;,Courier,monospace\">     ┌───┐     ┌─┐   \n",
       "  y: ┤ H ├──■──┤M├───\n",
       "     └───┘┌─┴─┐└╥┘┌─┐\n",
       "  x: ─────┤ X ├─╫─┤M├\n",
       "          └───┘ ║ └╥┘\n",
       "b: 1/═══════════╩══╬═\n",
       "                0  ║ \n",
       "a: 1/══════════════╩═\n",
       "                   0 </pre>"
      ],
      "text/plain": [
       "     ┌───┐     ┌─┐   \n",
       "  y: ┤ H ├──■──┤M├───\n",
       "     └───┘┌─┴─┐└╥┘┌─┐\n",
       "  x: ─────┤ X ├─╫─┤M├\n",
       "          └───┘ ║ └╥┘\n",
       "b: 1/═══════════╩══╬═\n",
       "                0  ║ \n",
       "a: 1/══════════════╩═\n",
       "                   0 "
      ]
     },
     "metadata": {},
     "output_type": "display_data"
    }
   ],
   "source": [
    "from qiskit import QuantumCircuit, QuantumRegister, ClassicalRegister\n",
    "\n",
    "X = QuantumRegister(1, \"x\")\n",
    "Y = QuantumRegister(1, \"y\")\n",
    "A = ClassicalRegister(1, \"a\")\n",
    "B = ClassicalRegister(1, \"b\")\n",
    "\n",
    "circuit = QuantumCircuit(Y, X, B, A)\n",
    "circuit.h(Y)\n",
    "circuit.cx(Y, X)\n",
    "circuit.measure(Y, B)\n",
    "circuit.measure(X, A)\n",
    "\n",
    "display(circuit.draw())"
   ]
  },
  {
   "cell_type": "code",
   "execution_count": 6,
   "id": "d5978367-eef2-41ff-b8b5-0b3726bb8c0e",
   "metadata": {},
   "outputs": [
    {
     "data": {
      "image/png": "[encoded data removed]",
      "text/plain": [
       "<Figure size 700x500 with 1 Axes>"
      ]
     },
     "metadata": {},
     "output_type": "display_data"
    }
   ],
   "source": [
    "from qiskit.primitives import Sampler\n",
    "from qiskit.visualization import plot_histogram\n",
    "\n",
    "sampler = Sampler()\n",
    "results = sampler.run(circuit).result()\n",
    "statistics = results.quasi_dists[0].binary_probabilities()\n",
    "display(plot_histogram(statistics))"
   ]
  },
  {
   "cell_type": "code",
   "execution_count": 7,
   "id": "cd010880-da40-4daa-a796-06ac6abd160b",
   "metadata": {},
   "outputs": [
    {
     "name": "stdout",
     "output_type": "stream",
     "text": [
      "aer_simulator\n",
      "aer_simulator_statevector\n",
      "aer_simulator_density_matrix\n",
      "aer_simulator_stabilizer\n",
      "aer_simulator_matrix_product_state\n",
      "aer_simulator_extended_stabilizer\n",
      "aer_simulator_unitary\n",
      "aer_simulator_superop\n",
      "qasm_simulator\n",
      "statevector_simulator\n",
      "unitary_simulator\n",
      "pulse_simulator\n"
     ]
    }
   ],
   "source": [
    "from qiskit import Aer  # simulator framework from qiskit\n",
    "\n",
    "# will create a statevector of possibilities. \n",
    "sim_backend = Aer.get_backend('qasm_simulator')\n",
    "\n",
    "for backend in Aer.backends():\n",
    "    print(backend)\n",
    "\n",
    "# qasm_simulator\n",
    "# statevector_simulator\n",
    "# unitary_simulator"
   ]
  },
  {
   "cell_type": "code",
   "execution_count": null,
   "id": "17b96c2a-9a33-4e50-970e-810efb832b9c",
   "metadata": {},
   "outputs": [],
   "source": [
    "import math\n",
    "import numpy as np\n",
    "from qiskit import Aer\n",
    "from qiskit.utils import QuantumInstance\n",
    "from qiskit.algorithms import Shor\n",
    "\n",
    "N = 15\n",
    "backend = Aer.get_backend('aer_simulator')\n",
    "quantum_instance = QuantumInstance(backend, shots=1024)\n",
    "shor = Shor(quantum_instance=quantum_instance)\n",
    "result = shor.factor(N)\n",
    "print(f\"The list of factors of {N} as computed by the Shor's algorithm is {result.factors[0]}.\")\n",
    "\n",
    "print(f'Computed of qubits for circuit: {4 * math.ceil(math.log(N, 2)) + 2}')\n",
    "print(f'Actual number of qubits of circuit: {shor.construct_circuit(N).num_qubits}')"
   ]
  }
 ],
 "metadata": {
  "kernelspec": {
   "display_name": "Python 3 (ipykernel)",
   "language": "python",
   "name": "python3"
  },
  "language_info": {
   "codemirror_mode": {
    "name": "ipython",
    "version": 3
   },
   "file_extension": ".py",
   "mimetype": "text/x-python",
   "name": "python",
   "nbconvert_exporter": "python",
   "pygments_lexer": "ipython3",
   "version": "3.10.12"
  }
 },
 "nbformat": 4,
 "nbformat_minor": 5
}
