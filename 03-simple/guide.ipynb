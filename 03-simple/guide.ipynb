{
 "cells": [
  {
   "cell_type": "code",
   "execution_count": 1,
   "id": "1c6036aa-fe9f-44f9-8d0b-165f208064de",
   "metadata": {
    "tags": []
   },
   "outputs": [
    {
     "data": {
      "text/plain": [
       "{'qiskit-terra': '0.24.0', 'qiskit-aer': '0.12.0', 'qiskit-ignis': '0.7.0', 'qiskit-ibmq-provider': '0.20.2', 'qiskit': '0.43.0', 'qiskit-nature': None, 'qiskit-finance': None, 'qiskit-optimization': None, 'qiskit-machine-learning': None}"
      ]
     },
     "execution_count": 1,
     "metadata": {},
     "output_type": "execute_result"
    }
   ],
   "source": [
    "import qiskit\n",
    "qiskit.__qiskit_version__ # qiskit software version in form of python dictionary"
   ]
  },
  {
   "cell_type": "code",
   "execution_count": 2,
   "id": "fa113ba4-54d2-432b-a7fa-f86b33adca13",
   "metadata": {},
   "outputs": [
    {
     "data": {
      "text/plain": [
       "<qiskit.circuit.instructionset.InstructionSet at 0x7fbe4043a0a0>"
      ]
     },
     "execution_count": 2,
     "metadata": {},
     "output_type": "execute_result"
    }
   ],
   "source": [
    "# The following shows a simple example of Qiskit Terra. In this, a quantum circuit\n",
    "# is created for two qubits, which consists of the quantum gates required to create a Bell state.\n",
    "# The quantum circuit then ends with quantum measurements, which extract a bit from each qubit.\n",
    "from qiskit import QuantumCircuit\n",
    "qc = QuantumCircuit(2, 2)\n",
    "\n",
    "qc.h(0)\n",
    "qc.cx(0, 1)\n",
    "qc.measure([0,1], [0, 1])"
   ]
  },
  {
   "cell_type": "code",
   "execution_count": 3,
   "id": "8403abe5",
   "metadata": {},
   "outputs": [
    {
     "data": {
      "text/html": [
       "<pre style=\"word-wrap: normal;white-space: pre;background: #fff0;line-height: 1.1;font-family: &quot;Courier New&quot;,Courier,monospace\">     ┌───┐     ┌─┐   \n",
       "q_0: ┤ H ├──■──┤M├───\n",
       "     └───┘┌─┴─┐└╥┘┌─┐\n",
       "q_1: ─────┤ X ├─╫─┤M├\n",
       "          └───┘ ║ └╥┘\n",
       "c: 2/═══════════╩══╩═\n",
       "                0  1 </pre>"
      ],
      "text/plain": [
       "     ┌───┐     ┌─┐   \n",
       "q_0: ┤ H ├──■──┤M├───\n",
       "     └───┘┌─┴─┐└╥┘┌─┐\n",
       "q_1: ─────┤ X ├─╫─┤M├\n",
       "          └───┘ ║ └╥┘\n",
       "c: 2/═══════════╩══╩═\n",
       "                0  1 "
      ]
     },
     "execution_count": 3,
     "metadata": {},
     "output_type": "execute_result"
    }
   ],
   "source": [
    "qc.draw()"
   ]
  },
  {
   "cell_type": "code",
   "execution_count": 4,
   "id": "bfb6b5c5",
   "metadata": {},
   "outputs": [
    {
     "name": "stdout",
     "output_type": "stream",
     "text": [
      "{'11': 488, '00': 536}\n"
     ]
    }
   ],
   "source": [
    "# Once the quantum circuit has been created, it can be run on a backend\n",
    "# (either quantum hardware or a simulator). In the following example, a local simulator is used.\n",
    "from qiskit import Aer, execute\n",
    "\n",
    "backend = Aer.get_backend('qasm_simulator')\n",
    "job = execute(qc, backend)\n",
    "result = job.result()\n",
    "print(result.get_counts(qc))"
   ]
  },
  {
   "cell_type": "code",
   "execution_count": 6,
   "id": "e0a98ca5",
   "metadata": {},
   "outputs": [
    {
     "data": {
      "text/html": [
       "<pre style=\"word-wrap: normal;white-space: pre;background: #fff0;line-height: 1.1;font-family: &quot;Courier New&quot;,Courier,monospace\">      ┌─────────┐     ┌─┐   \n",
       "q4_0: ┤ Rx(π/2) ├──■──┤M├───\n",
       "      └─────────┘┌─┴─┐└╥┘┌─┐\n",
       "q4_1: ───────────┤ X ├─╫─┤M├\n",
       "                 └───┘ ║ └╥┘\n",
       "c1: 2/═════════════════╩══╩═\n",
       "                       0  1 </pre>"
      ],
      "text/plain": [
       "      ┌─────────┐     ┌─┐   \n",
       "q4_0: ┤ Rx(π/2) ├──■──┤M├───\n",
       "      └─────────┘┌─┴─┐└╥┘┌─┐\n",
       "q4_1: ───────────┤ X ├─╫─┤M├\n",
       "                 └───┘ ║ └╥┘\n",
       "c1: 2/═════════════════╩══╩═\n",
       "                       0  1 "
      ]
     },
     "execution_count": 6,
     "metadata": {},
     "output_type": "execute_result"
    }
   ],
   "source": [
    "from qiskit import QuantumRegister,ClassicalRegister, QuantumCircuit\n",
    "from qiskit.tools.visualization import circuit_drawer\n",
    "import numpy as np\n",
    "\n",
    "qr = QuantumRegister(2)\n",
    "cr = ClassicalRegister(2)\n",
    "qc_2 = QuantumCircuit(qr,cr)\n",
    "\n",
    "qc_2.rx(np.pi/2,qr[0])\n",
    "qc_2.cx(qr[0],qr[1])\n",
    "qc_2.measure(qr, cr)\n",
    "\n",
    "circuit_drawer(qc_2)"
   ]
  },
  {
   "cell_type": "code",
   "execution_count": 7,
   "id": "1f3acc7a-ca31-43ce-bfc1-d622efb76118",
   "metadata": {},
   "outputs": [],
   "source": [
    "# The below docs is from wikipedia as from (29-may-2023), then version of qiskit is \n",
    "# 0.43.0 / 29 May, 2022;\n",
    "\n",
    "# Components\n",
    "# Qiskit is made up of elements that work together to enable quantum computing. The central goal \n",
    "# of Qiskit is to build a software stack that makes it easy for anyone to use quantum computers, \n",
    "# regardless of their skill level or area of interest; Qiskit allows users to easily design \n",
    "# experiments and applications and run them on real quantum computers and/or classical simulators. \n",
    "# Qiskit provides the ability to develop quantum software both at the machine code level of \n",
    "# OpenQASM, and at abstract levels suitable for end-users without quantum computing expertise. \n",
    "# This functionality is provided by the following distinct components.\n",
    "\n",
    "\n",
    "\n",
    "# Qiskit Terra\n",
    "# The element Terra is the foundation on which the rest of Qiskit is built. Qiskit Terra provides \n",
    "# tools to create quantum circuits at or close to the level of quantum machine code. It allows \n",
    "# the processes that run on quantum hardware to be explicitly constructed in terms of quantum gates. \n",
    "# It also provides tools to allow quantum circuits to be optimized for a particular device, as well\n",
    "# as managing batches of jobs and running them on remote-access quantum devices and simulators.\n",
    "\n",
    "# The following shows a simple example of Qiskit Terra. In this, a quantum circuit is created for \n",
    "# two qubits, which consists of the quantum gates required to create a Bell state. The quantum \n",
    "# circuit then ends with quantum measurements, which extract a bit from each qubit.\n",
    "\n",
    "# from qiskit import QuantumCircuit\n",
    "\n",
    "# qc = QuantumCircuit(2, 2)\n",
    "\n",
    "# qc.h(0)\n",
    "# qc.cx(0, 1)\n",
    "# qc.measure([0,1], [0,1])\n",
    "\n",
    "\n",
    "\n",
    "# Qiskit Aer\n",
    "# The element Aer provides high-performance quantum computing simulators with realistic noise models. \n",
    "# In the near-term, development of quantum software will depend largely on simulation of small \n",
    "# quantum devices. For Qiskit, this is provided by the Aer component. This provides simulators \n",
    "# hosted locally on the user's device, as well as HPC resources available through the cloud. \n",
    "# The simulators can also simulate the effects of noise for simple and sophisticated noise models.\n",
    "\n",
    "# Continuing with the previous example: Once the quantum circuit has been created, it can be run on \n",
    "# a backend (either quantum hardware or a simulator). In the following example, a local simulator \n",
    "# is used.\n",
    "\n",
    "# from qiskit import Aer, execute\n",
    "\n",
    "# backend = Aer.get_backend(\"qasm_simulator\")\n",
    "# job = execute(qc, backend)\n",
    "# result = job.result()\n",
    "# print(result.get_counts(qc))\n",
    "# The final print statement here will show the results returned by the backend. This is a Python \n",
    "# dictionary that describes the bit strings obtained from multiple runs of the quantum circuit. \n",
    "# In the quantum circuit used in this example, the bit strings '00' and '11' should be the only \n",
    "# possible results, and should occur with equal probability. The full results will therefore \n",
    "# typically have the samples split approximately equally between the two, such as \n",
    "# {'00':519, '11':505} .\n",
    "\n",
    "# Experiments done on quantum hardware using Qiskit have been used in many research papers, \n",
    "# such as in tests of quantum error correction, generation of entanglement and \n",
    "# simulation of far-from-equilibrium dynamics.\n",
    "\n",
    "\n",
    "\n",
    "# Qiskit Ignis\n",
    "# As of version 0.7.0, released on 6th December 2021, Qiskit Ignis has been deprecated and \n",
    "# superseded by the Qiskit Experiments project.\n",
    "\n",
    "# The element Ignis provides tools for quantum hardware verification, noise characterization, \n",
    "# and error correction. Ignis is a component that contains tools for characterizing noise in \n",
    "# near-term devices, as well as allowing computations to be performed in the presence of noise. \n",
    "# This includes tools for benchmarking near-term devices, error mitigation and error correction.\n",
    "\n",
    "# Ignis is meant for those who want to design quantum error correction codes, or who wish to \n",
    "# study ways to characterize errors through methods such as tomography, or even to find a better \n",
    "# way for using gates by exploring dynamical decoupling and optimal control.\n",
    "\n",
    "\n",
    "\n",
    "# Qiskit Aqua\n",
    "# As of version 0.9.0, released on 2nd April 2021, Qiskit Aqua has been deprecated with its \n",
    "# support ending and eventual archival being no sooner than 3 months from that date.\n",
    "\n",
    "# The element Aqua provided a library of cross-domain algorithms upon which domain-specific \n",
    "# applications can be built. However, the Qiskit 0.25.0 release included a restructuring of \n",
    "# the applications and algorithms. What previously has been referred to as Qiskit Aqua, the \n",
    "# single applications and algorithms module of Qiskit, is now split into dedicated application \n",
    "# modules for Optimization, Finance, Machine Learning and Nature (including Physics & Chemistry). \n",
    "# The core algorithms and opflow operator functionality were moved to Qiskit Terra.\n",
    "\n",
    "# Additionally, to the restructuring, all algorithms follow a new unified paradigm: algorithms \n",
    "# are classified according to the problems they solve, and within one application class algorithms \n",
    "# can be used interchangeably to solve the same problem. This means that, unlike before, algorithm \n",
    "# instances are decoupled from the problem they solve.\n",
    "\n",
    "\n",
    "\n",
    "# Qiskit Optimization\n",
    "# Qiskit Optimization is an open-source framework that covers the whole range from high-level \n",
    "# modeling of optimization problems, with automatic conversion of problems to different required \n",
    "# representations, to a suite of easy-to-use quantum optimization algorithms that are ready to \n",
    "# run on classical simulators, as well as on real quantum devices via Qiskit. The Optimization \n",
    "# module enables easy, efficient modeling of optimization problems using docplex.\n",
    "\n",
    "\n",
    "\n",
    "# Qiskit Finance\n",
    "# Qiskit Finance is an open-source framework that contains uncertainty components for \n",
    "# stock/securities problems, Ising translators for portfolio optimizations and data providers \n",
    "# to source real or random data to finance experiments.\n",
    "\n",
    "\n",
    "\n",
    "# Qiskit Machine Learning\n",
    "# The Machine Learning package simply contains sample datasets at present. It has some \n",
    "# classification algorithms such as QSVM and VQC (Variational Quantum Classifier), where \n",
    "# this data can be used for experiments, and there is also QGAN \n",
    "# (Quantum Generative Adversarial Network) algorithm.\n",
    "\n",
    "\n",
    "\n",
    "# Qiskit Nature\n",
    "# Qiskit Nature is an open-source framework that supports problems including ground state energy \n",
    "# computations, excited states and dipole moments of molecule, both open and closed-shell. The \n",
    "# code comprises chemistry drivers, which when provided with a molecular configuration will \n",
    "# return one and two-body integrals as well as other data that is efficiently computed classically. \n",
    "# This output data from a driver can then be used as input in Qiskit Nature that contains logic \n",
    "# which is able to translate this into a form that is suitable for quantum algorithms."
   ]
  },
  {
   "cell_type": "code",
   "execution_count": null,
   "id": "cd3f0e1a-b160-489f-b144-ac196a44958a",
   "metadata": {},
   "outputs": [],
   "source": []
  }
 ],
 "metadata": {
  "kernelspec": {
   "display_name": "Python 3 (ipykernel)",
   "language": "python",
   "name": "python3"
  },
  "language_info": {
   "codemirror_mode": {
    "name": "ipython",
    "version": 3
   },
   "file_extension": ".py",
   "mimetype": "text/x-python",
   "name": "python",
   "nbconvert_exporter": "python",
   "pygments_lexer": "ipython3",
   "version": "3.8.10"
  }
 },
 "nbformat": 4,
 "nbformat_minor": 5
}
