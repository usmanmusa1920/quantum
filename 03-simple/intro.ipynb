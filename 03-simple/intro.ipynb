{
 "cells": [
  {
   "cell_type": "code",
   "execution_count": 1,
   "id": "a63e7215-a7cc-427b-bdf5-ee7d4844d4dc",
   "metadata": {},
   "outputs": [
    {
     "data": {
      "text/plain": [
       "{'qiskit-terra': '0.24.0', 'qiskit-aer': '0.12.0', 'qiskit-ignis': '0.7.0', 'qiskit-ibmq-provider': '0.20.2', 'qiskit': '0.43.0', 'qiskit-nature': None, 'qiskit-finance': None, 'qiskit-optimization': None, 'qiskit-machine-learning': None}"
      ]
     },
     "execution_count": 1,
     "metadata": {},
     "output_type": "execute_result"
    }
   ],
   "source": [
    "import qiskit\n",
    "qiskit.__qiskit_version__ # qiskit software version in form of python dictionary"
   ]
  },
  {
   "cell_type": "code",
   "execution_count": 2,
   "id": "aeed5aec-e65f-4948-a5aa-de69aab7e150",
   "metadata": {
    "jupyter": {
     "source_hidden": true
    },
    "tags": []
   },
   "outputs": [
    {
     "data": {
      "text/html": [
       "<h3>Version Information</h3><table><tr><th>Qiskit Software</th><th>Version</th></tr><tr><td><code>qiskit-terra</code></td><td>0.24.0</td></tr><tr><td><code>qiskit-aer</code></td><td>0.12.0</td></tr><tr><td><code>qiskit-ignis</code></td><td>0.7.0</td></tr><tr><td><code>qiskit-ibmq-provider</code></td><td>0.20.2</td></tr><tr><td><code>qiskit</code></td><td>0.43.0</td></tr><tr><th>System information</th></tr><tr><td>Python version</td><td>3.8.10</td></tr><tr><td>Python compiler</td><td>GCC 9.4.0</td></tr><tr><td>Python build</td><td>default, Jun 22 2022 20:18:18</td></tr><tr><td>OS</td><td>Linux</td></tr><tr><td>CPUs</td><td>1</td></tr><tr><td>Memory (Gb)</td><td>1.9294395446777344</td></tr><tr><td colspan='2'>Mon May 29 14:24:09 2023 WAT</td></tr></table>"
      ],
      "text/plain": [
       "<IPython.core.display.HTML object>"
      ]
     },
     "metadata": {},
     "output_type": "display_data"
    }
   ],
   "source": [
    "import qiskit.tools.jupyter\n",
    "%qiskit_version_table # qiskit software version in form of table"
   ]
  },
  {
   "cell_type": "code",
   "execution_count": 3,
   "id": "e04354f8-2307-43ec-a78f-40d4b8e96ef8",
   "metadata": {},
   "outputs": [
    {
     "data": {
      "text/html": [
       "<div style='width: 100%; background-color:#d5d9e0;padding-left: 10px; padding-bottom: 10px; padding-right: 10px; padding-top: 5px'><h3>This code is a part of Qiskit</h3><p>&copy; Copyright IBM 2017, 2023.</p><p>This code is licensed under the Apache License, Version 2.0. You may<br>obtain a copy of this license in the LICENSE.txt file in the root directory<br> of this source tree or at http://www.apache.org/licenses/LICENSE-2.0.<p>Any modifications or derivative works of this code must retain this<br>copyright notice, and modified files need to carry a notice indicating<br>that they have been altered from the originals.</p></div>"
      ],
      "text/plain": [
       "<IPython.core.display.HTML object>"
      ]
     },
     "metadata": {},
     "output_type": "display_data"
    }
   ],
   "source": [
    "%qiskit_copyright # copy right"
   ]
  },
  {
   "cell_type": "code",
   "execution_count": 4,
   "id": "63ff2dc8-3204-439d-b76e-5875907ed2fc",
   "metadata": {},
   "outputs": [],
   "source": [
    "from qiskit import QuantumCircuit\n",
    "from qiskit_aer import AerSimulator\n",
    "from qiskit.visualization import plot_histogram\n",
    "\n",
    "# QuantumCircuit:\n",
    "    # can be thought as the instructions of the quantum system.\n",
    "    # It holds all your quantum operations.\n",
    "# AerSimulator:\n",
    "    # is the Aer high performance circuit simulator.\n",
    "# plot_histogram:\n",
    "    # creates histograms."
   ]
  },
  {
   "cell_type": "code",
   "execution_count": 5,
   "id": "3c720c32-d31e-4e78-b305-de64b2af49b6",
   "metadata": {},
   "outputs": [],
   "source": [
    "circuit = QuantumCircuit(2, 2)\n",
    "# Here, you are initializing with 2 qubits in the zero state;\n",
    "# with 2 classical bits set to zero; and circuit is the quantum circuit."
   ]
  },
  {
   "cell_type": "code",
   "execution_count": 6,
   "id": "da103978-d179-4c75-9462-542ac9f7690d",
   "metadata": {},
   "outputs": [
    {
     "data": {
      "text/plain": [
       "<qiskit.circuit.instructionset.InstructionSet at 0x7fe42b835940>"
      ]
     },
     "execution_count": 6,
     "metadata": {},
     "output_type": "execute_result"
    }
   ],
   "source": [
    "# The gates are added to the circuit one-by-one to form the Bell state\n",
    "# NB: the U in the below bell state represent phsai\n",
    "# |U> = (|00> + |11>)/ square root of 2\n",
    "\n",
    "circuit.h(0)\n",
    "circuit.cx(0, 1)\n",
    "circuit.measure([0, 1], [0, 1])\n",
    "\n",
    "# QuantumCircuit.h(0):\n",
    "    # A Hadamard gate H on qubit 0, which puts it into a superposition state.\n",
    "\n",
    "# QuantumCircuit.cx(0, 1):\n",
    "    # A controlled-Not operation (CNOT) on control qubit 0 and target qubit 1,\n",
    "    # putting the qubits in an entangled state.\n",
    "    \n",
    "# QuantumCircuit.measure([0,1], [0,1]):\n",
    "    # if you pass the entire quantum and classical registers to measure,\n",
    "    # the ith qubit’s measurement result will be stored in the ith classical bit."
   ]
  },
  {
   "cell_type": "code",
   "execution_count": 7,
   "id": "0fc17997-d9b7-4d27-ab16-579ea753c6a2",
   "metadata": {},
   "outputs": [
    {
     "data": {
      "image/png": "[encoded data removed]",
      "text/plain": [
       "<Figure size 327.252x204.68 with 1 Axes>"
      ]
     },
     "execution_count": 7,
     "metadata": {},
     "output_type": "execute_result"
    }
   ],
   "source": [
    "circuit.draw(\"mpl\")\n",
    "# You can use qiskit.circuit.QuantumCircuit.draw() to view the circuit that you\n",
    "# have designed in the various forms used in many textbooks and research articles.\n",
    "\n",
    "# The default backend for QuantumCircuit.draw() or\n",
    "# qiskit.visualization.circuit_drawer() is the text backend.\n",
    "\n",
    "# You can use any of the valid circuit drawer backends as the value for this config,\n",
    "# this includes text, mpl, latex, and latex_source, but the default is `text`"
   ]
  },
  {
   "cell_type": "code",
   "execution_count": 8,
   "id": "d445b290-4fd2-4caf-ab22-0989433c3fb1",
   "metadata": {},
   "outputs": [],
   "source": [
    "from qiskit import QuantumCircuit, transpile\n",
    "from qiskit.providers.basicaer import QasmSimulatorPy\n",
    "\n",
    "# Qiskit Aer is a high performance simulator framework for quantum circuits.\n",
    "# It provides several backends to achieve different simulation goals.\n",
    "\n",
    "# If you have issues installing Aer, you can alternatively use the Basic Aer provider\n",
    "# by replacing Aer with BasicAer. Basic Aer is included in Qiskit Terra.\n",
    "\n",
    "# To simulate this circuit, you will use the AerSimulator.\n",
    "# Each run of this circuit will yield either the bit string 00 or 11."
   ]
  },
  {
   "cell_type": "code",
   "execution_count": 9,
   "id": "e3d896ec-56c7-421a-bf39-91af737dbd90",
   "metadata": {},
   "outputs": [
    {
     "name": "stdout",
     "output_type": "stream",
     "text": [
      "\n",
      "Total count for 00 and 11 are: {'00': 508, '11': 492}\n"
     ]
    }
   ],
   "source": [
    "simulator = AerSimulator()\n",
    "compiled_circuit = transpile(circuit, simulator)\n",
    "job = simulator.run(compiled_circuit, shots=1000)\n",
    "result = job.result()\n",
    "\n",
    "# Once you have a result object, you can access the counts via the method get_counts(circuit).\n",
    "# This gives you the aggregate outcomes of the experiment you ran.\n",
    "\n",
    "counts = result.get_counts(circuit)\n",
    "print(\"\\nTotal count for 00 and 11 are:\",counts)\n",
    "\n",
    "# As expected, the output bit string is 00 approximately 50 percent of the time.\n",
    "# The number of times the circuit is run can be specified via the shots argument of the\n",
    "# execute method. The number of shots of the simulation was set to be 1000 (the default is 1024)."
   ]
  },
  {
   "cell_type": "code",
   "execution_count": 10,
   "id": "06334177-20a5-4a06-a3dd-84a478df78bb",
   "metadata": {},
   "outputs": [
    {
     "data": {
      "image/png": "[encoded data removed]",
      "text/plain": [
       "<Figure size 504x360 with 1 Axes>"
      ]
     },
     "execution_count": 10,
     "metadata": {},
     "output_type": "execute_result"
    }
   ],
   "source": [
    "# including the function plot_histogram, to view your results.\n",
    "plot_histogram(counts)\n",
    "\n",
    "# The observed probabilities Pr(00) and Pr(11) are computed by\n",
    "# taking the respective counts and dividing by the total number of shots.\n",
    "\n",
    "# NOTE:\n",
    "# Try changing the shots keyword in the run() method to see how the estimated probabilities change."
   ]
  },
  {
   "cell_type": "code",
   "execution_count": null,
   "id": "de80aa02-8dce-4682-9f0a-942e346584d8",
   "metadata": {},
   "outputs": [],
   "source": []
  }
 ],
 "metadata": {
  "kernelspec": {
   "display_name": "Python 3 (ipykernel)",
   "language": "python",
   "name": "python3"
  },
  "language_info": {
   "codemirror_mode": {
    "name": "ipython",
    "version": 3
   },
   "file_extension": ".py",
   "mimetype": "text/x-python",
   "name": "python",
   "nbconvert_exporter": "python",
   "pygments_lexer": "ipython3",
   "version": "3.8.10"
  }
 },
 "nbformat": 4,
 "nbformat_minor": 5
}
