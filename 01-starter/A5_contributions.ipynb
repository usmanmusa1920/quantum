{
 "cells": [
  {
   "cell_type": "code",
   "execution_count": 1,
   "id": "41ed1bc0-9dd3-4bbf-9f25-601fa411bb87",
   "metadata": {},
   "outputs": [
    {
     "data": {
      "text/plain": [
       "{'qiskit-terra': '0.19.2', 'qiskit-aer': '0.10.3', 'qiskit-ignis': '0.7.0', 'qiskit-ibmq-provider': '0.18.3', 'qiskit-aqua': None, 'qiskit': '0.34.2', 'qiskit-nature': None, 'qiskit-finance': None, 'qiskit-optimization': None, 'qiskit-machine-learning': None}"
      ]
     },
     "execution_count": 1,
     "metadata": {},
     "output_type": "execute_result"
    }
   ],
   "source": [
    "import qiskit\n",
    "qiskit.__qiskit_version__"
   ]
  },
  {
   "cell_type": "code",
   "execution_count": 2,
   "id": "1abef8f5-c586-4746-8611-cccbb911d662",
   "metadata": {},
   "outputs": [
    {
     "name": "stderr",
     "output_type": "stream",
     "text": [
      "/tmp/ipykernel_4279/3669837618.py:7: DeprecationWarning: The QuantumCircuit.u3 method is deprecated as of 0.16.0. It will be removed no earlier than 3 months after the release date. You should use QuantumCircuit.u instead, which acts identically. Alternatively, you can decompose u3 in terms of QuantumCircuit.p and QuantumCircuit.sx: u3(ϴ,φ,λ) = p(φ+π) sx p(ϴ+π) sx p(λ) (2 pulses on hardware).\n",
      "  circuit_all.u3(pi, pi, pi, qr[0])\n",
      "/tmp/ipykernel_4279/3669837618.py:8: DeprecationWarning: The QuantumCircuit.cu3 method is deprecated as of 0.16.0. It will be removed no earlier than 3 months after the release date. You should use the QuantumCircuit.cu method instead, where cu3(ϴ,φ,λ) = cu(ϴ,φ,λ,0).\n",
      "  circuit_all.cu3(pi, pi, pi, qr[0], qr[1])\n"
     ]
    },
    {
     "data": {
      "image/png": "[encoded data removed]",
      "text/plain": [
       "<Figure size 206.852x144.48 with 1 Axes>"
      ]
     },
     "execution_count": 2,
     "metadata": {},
     "output_type": "execute_result"
    }
   ],
   "source": [
    "from qiskit import *\n",
    "import numpy as np\n",
    "pi = np.pi\n",
    "\n",
    "qr = QuantumRegister(2, 'q')\n",
    "circuit_all = QuantumCircuit(qr)\n",
    "circuit_all.u3(pi, pi, pi, qr[0])\n",
    "circuit_all.cu3(pi, pi, pi, qr[0], qr[1])\n",
    "circuit_all.draw(output='mpl')"
   ]
  },
  {
   "cell_type": "code",
   "execution_count": 3,
   "id": "f42feb1c-c693-43e7-b027-7d68986d6c92",
   "metadata": {},
   "outputs": [
    {
     "data": {
      "text/html": [
       "<pre style=\"word-wrap: normal;white-space: pre;background: #fff0;line-height: 1.1;font-family: &quot;Courier New&quot;,Courier,monospace\">     ┌───────────┐             \n",
       "q_0: ┤ U3(π,π,π) ├──────■──────\n",
       "     └───────────┘┌─────┴─────┐\n",
       "q_1: ─────────────┤ U3(π,π,π) ├\n",
       "                  └───────────┘</pre>"
      ],
      "text/plain": [
       "     ┌───────────┐             \n",
       "q_0: ┤ U3(π,π,π) ├──────■──────\n",
       "     └───────────┘┌─────┴─────┐\n",
       "q_1: ─────────────┤ U3(π,π,π) ├\n",
       "                  └───────────┘"
      ]
     },
     "execution_count": 3,
     "metadata": {},
     "output_type": "execute_result"
    }
   ],
   "source": [
    "circuit_all.draw()"
   ]
  },
  {
   "cell_type": "code",
   "execution_count": 4,
   "id": "9d0faef5-0a6a-41f1-9cfe-7cf75dd76be5",
   "metadata": {},
   "outputs": [
    {
     "name": "stdout",
     "output_type": "stream",
     "text": [
      "Help on InstructionSet in module qiskit.circuit.instructionset object:\n",
      "\n",
      "class InstructionSet(builtins.object)\n",
      " |  InstructionSet(circuit_cregs=None, *, resource_requester: Union[Callable, NoneType] = None)\n",
      " |  \n",
      " |  Instruction collection, and their contexts.\n",
      " |  \n",
      " |  Methods defined here:\n",
      " |  \n",
      " |  __getitem__(self, i)\n",
      " |      Return instruction at index\n",
      " |  \n",
      " |  __init__(self, circuit_cregs=None, *, resource_requester: Union[Callable, NoneType] = None)\n",
      " |      New collection of instructions.\n",
      " |      \n",
      " |      The context (qargs and cargs that each instruction is attached to) is also stored separately\n",
      " |      for each instruction.\n",
      " |      \n",
      " |      Args:\n",
      " |          circuit_cregs (list[ClassicalRegister]): Optional. List of cregs of the\n",
      " |              circuit to which the instruction is added. Default: `None`.\n",
      " |      \n",
      " |              .. deprecated:: qiskit-terra 0.19\n",
      " |                  The classical registers are insufficient to access all classical resources in a\n",
      " |                  circuit, as there may be loose classical bits as well.  It can also cause\n",
      " |                  integer indices to be resolved incorrectly if any registers overlap.  Instead,\n",
      " |                  pass a complete requester to the ``resource_requester`` argument.\n",
      " |      \n",
      " |          resource_requester: A callable that takes in the classical resource used in the\n",
      " |              condition, verifies that it is present in the attached circuit, resolves any indices\n",
      " |              into concrete :obj:`.Clbit` instances, and returns the concrete resource.  If this\n",
      " |              is not given, specifying a condition with an index is forbidden, and all concrete\n",
      " |              :obj:`.Clbit` and :obj:`.ClassicalRegister` resources will be assumed to be valid.\n",
      " |      \n",
      " |              .. note::\n",
      " |      \n",
      " |                  The callback ``resource_requester`` is called once for each call to\n",
      " |                  :meth:`.c_if`, and assumes that a call implies that the resource will now be\n",
      " |                  used.  It may throw an error if the resource is not valid for usage.\n",
      " |      \n",
      " |      Raises:\n",
      " |          CircuitError: if both ``resource_requester`` and ``circuit_cregs`` are passed.  Only one\n",
      " |              of these may be passed, and it should be ``resource_requester``.\n",
      " |  \n",
      " |  __len__(self)\n",
      " |      Return number of instructions in set\n",
      " |  \n",
      " |  add(self, gate, qargs, cargs)\n",
      " |      Add an instruction and its context (where it is attached).\n",
      " |  \n",
      " |  c_if(self, classical: Union[qiskit.circuit.classicalregister.Clbit, qiskit.circuit.classicalregister.ClassicalRegister, int], val: int) -> 'InstructionSet'\n",
      " |      Set a classical equality condition on all the instructions in this set between the\n",
      " |      :obj:`.ClassicalRegister` or :obj:`.Clbit` ``classical`` and value ``val``.\n",
      " |      \n",
      " |      .. note::\n",
      " |      \n",
      " |          This is a setter method, not an additive one.  Calling this multiple times will silently\n",
      " |          override any previously set condition on any of the contained instructions; it does not\n",
      " |          stack.\n",
      " |      \n",
      " |      Args:\n",
      " |          classical: the classical resource the equality condition should be on.  If this is given\n",
      " |              as an integer, it will be resolved into a :obj:`.Clbit` using the same conventions\n",
      " |              as the circuit these instructions are attached to.\n",
      " |          val: the value the classical resource should be equal to.\n",
      " |      \n",
      " |      Returns:\n",
      " |          This same instance of :obj:`.InstructionSet`, but now mutated to have the given equality\n",
      " |          condition.\n",
      " |      \n",
      " |      Raises:\n",
      " |          CircuitError: if the passed classical resource is invalid, or otherwise not resolvable\n",
      " |              to a concrete resource that these instructions are permitted to access.\n",
      " |  \n",
      " |  inverse(self)\n",
      " |      Invert all instructions.\n",
      " |  \n",
      " |  ----------------------------------------------------------------------\n",
      " |  Data descriptors defined here:\n",
      " |  \n",
      " |  cargs\n",
      " |  \n",
      " |  instructions\n",
      " |  \n",
      " |  qargs\n",
      "\n"
     ]
    },
    {
     "name": "stderr",
     "output_type": "stream",
     "text": [
      "/tmp/ipykernel_4279/3094992569.py:1: DeprecationWarning: The QuantumCircuit.u3 method is deprecated as of 0.16.0. It will be removed no earlier than 3 months after the release date. You should use QuantumCircuit.u instead, which acts identically. Alternatively, you can decompose u3 in terms of QuantumCircuit.p and QuantumCircuit.sx: u3(ϴ,φ,λ) = p(φ+π) sx p(ϴ+π) sx p(λ) (2 pulses on hardware).\n",
      "  help(circuit_all.u3(pi, pi, pi, qr[0]))\n"
     ]
    }
   ],
   "source": [
    "help(circuit_all.u3(pi, pi, pi, qr[0]))"
   ]
  },
  {
   "cell_type": "code",
   "execution_count": null,
   "id": "18f18f36-2bc9-4309-b31b-fe3df19c2227",
   "metadata": {},
   "outputs": [],
   "source": []
  }
 ],
 "metadata": {
  "kernelspec": {
   "display_name": "Python 3 (ipykernel)",
   "language": "python",
   "name": "python3"
  },
  "language_info": {
   "codemirror_mode": {
    "name": "ipython",
    "version": 3
   },
   "file_extension": ".py",
   "mimetype": "text/x-python",
   "name": "python",
   "nbconvert_exporter": "python",
   "pygments_lexer": "ipython3",
   "version": "3.8.10"
  }
 },
 "nbformat": 4,
 "nbformat_minor": 5
}
