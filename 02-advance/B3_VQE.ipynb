{
 "cells": [
  {
   "cell_type": "code",
   "execution_count": 1,
   "id": "ae88570f-ab0c-47f9-bd6a-2bcf9587bcb5",
   "metadata": {},
   "outputs": [
    {
     "data": {
      "text/plain": [
       "{'qiskit-terra': '0.19.2', 'qiskit-aer': '0.10.3', 'qiskit-ignis': '0.7.0', 'qiskit-ibmq-provider': '0.18.3', 'qiskit-aqua': None, 'qiskit': '0.34.2', 'qiskit-nature': None, 'qiskit-finance': None, 'qiskit-optimization': None, 'qiskit-machine-learning': None}"
      ]
     },
     "execution_count": 1,
     "metadata": {},
     "output_type": "execute_result"
    }
   ],
   "source": [
    "# The variational quantum eigensolver (VQE)\n",
    "\n",
    "# first install\n",
    "# pip install pyscf # it enable us to do chemistry calculations\n",
    "\n",
    "import qiskit\n",
    "qiskit.__qiskit_version__"
   ]
  },
  {
   "cell_type": "code",
   "execution_count": 2,
   "id": "4c882ee0-6609-46cd-8e29-cf91ad3b62cf",
   "metadata": {},
   "outputs": [
    {
     "ename": "ModuleNotFoundError",
     "evalue": "No module named 'qiskit.chemistry'",
     "output_type": "error",
     "traceback": [
      "\u001b[0;31m---------------------------------------------------------------------------\u001b[0m",
      "\u001b[0;31mModuleNotFoundError\u001b[0m                       Traceback (most recent call last)",
      "Input \u001b[0;32mIn [2]\u001b[0m, in \u001b[0;36m<module>\u001b[0;34m\u001b[0m\n\u001b[1;32m     12\u001b[0m \u001b[38;5;66;03m# from qiskit.aqua.components.optimizers import SLSQP\u001b[39;00m\n\u001b[1;32m     13\u001b[0m \u001b[38;5;28;01mfrom\u001b[39;00m \u001b[38;5;21;01mqiskit\u001b[39;00m\u001b[38;5;21;01m.\u001b[39;00m\u001b[38;5;21;01malgorithms\u001b[39;00m\u001b[38;5;21;01m.\u001b[39;00m\u001b[38;5;21;01moptimizers\u001b[39;00m \u001b[38;5;28;01mimport\u001b[39;00m SLSQP\n\u001b[0;32m---> 15\u001b[0m \u001b[38;5;28;01mfrom\u001b[39;00m \u001b[38;5;21;01mqiskit\u001b[39;00m\u001b[38;5;21;01m.\u001b[39;00m\u001b[38;5;21;01mchemistry\u001b[39;00m\u001b[38;5;21;01m.\u001b[39;00m\u001b[38;5;21;01mcomponents\u001b[39;00m\u001b[38;5;21;01m.\u001b[39;00m\u001b[38;5;21;01minitial_states\u001b[39;00m \u001b[38;5;28;01mimport\u001b[39;00m HartreeFock\n\u001b[1;32m     16\u001b[0m \u001b[38;5;28;01mfrom\u001b[39;00m \u001b[38;5;21;01mqiskit\u001b[39;00m\u001b[38;5;21;01m.\u001b[39;00m\u001b[38;5;21;01mchemistry\u001b[39;00m\u001b[38;5;21;01m.\u001b[39;00m\u001b[38;5;21;01mcomponents\u001b[39;00m\u001b[38;5;21;01m.\u001b[39;00m\u001b[38;5;21;01mvaruiational_forms\u001b[39;00m \u001b[38;5;28;01mimport\u001b[39;00m UCCSD\n\u001b[1;32m     17\u001b[0m \u001b[38;5;28;01mfrom\u001b[39;00m \u001b[38;5;21;01mqiskit\u001b[39;00m\u001b[38;5;21;01m.\u001b[39;00m\u001b[38;5;21;01mchemistry\u001b[39;00m\u001b[38;5;21;01m.\u001b[39;00m\u001b[38;5;21;01mdrivers\u001b[39;00m \u001b[38;5;28;01mimport\u001b[39;00m PySCFDriver\n",
      "\u001b[0;31mModuleNotFoundError\u001b[0m: No module named 'qiskit.chemistry'"
     ]
    }
   ],
   "source": [
    "import numpy as np\n",
    "import pylab\n",
    "import copy\n",
    "from qiskit import BasicAer\n",
    "\n",
    "# from qiskit.aqua import aqua_globals, QuantumInstance\n",
    "from qiskit.utils import QuantumInstance\n",
    "\n",
    "# from qiskit.aqua.algoritms import NumpyMinimumEigensolver, VQE\n",
    "from qiskit.algorithms import VQE, NumPyMinimumEigensolver\n",
    "\n",
    "# from qiskit.aqua.components.optimizers import SLSQP\n",
    "from qiskit.algorithms.optimizers import SLSQP\n",
    "\n",
    "from qiskit.chemistry.components.initial_states import HartreeFock\n",
    "from qiskit.chemistry.components.varuiational_forms import UCCSD\n",
    "from qiskit.chemistry.drivers import PySCFDriver\n",
    "from qiskit.chemistry.core import Hamiltonian, QubitMappingType"
   ]
  },
  {
   "cell_type": "code",
   "execution_count": null,
   "id": "94ad4d35",
   "metadata": {},
   "outputs": [],
   "source": [
    "molecule = 'H .0 .0 -{0}; Li .0 .0 {0}'\n",
    "distances = np.arrange(0.5, 4.25, 0.25)\n",
    "vqe_energies = []\n",
    "hf_energies []\n",
    "exact_energies = []"
   ]
  },
  {
   "cell_type": "code",
   "execution_count": null,
   "id": "f2d1210d",
   "metadata": {},
   "outputs": [],
   "source": [
    "for i,d in enumerate(distances):\n",
    "    print('step', i)\n",
    "    \n",
    "    #set up experiment\n",
    "    driver = PySCFDriver(molecule.format(d/2), basis='sto3g')\n",
    "    qmolecule = driver.run()\n",
    "    operator = Hamiltonian(qubit_mapping=QubitMappingType.PARITY,\n",
    "                           two_qubit_reduction=True,freeze_core=True,\n",
    "                           orbit_reduction=[-3, -2])\n",
    "    qubit_op, aux_ops = operator.run(qmolecule)\n",
    "    \n",
    "    #exact classical result\n",
    "    exact_result = NumPyMinimumEigensolver(qubit_op,aux_operators=aux_ops)\n",
    "    exact_result = operator.process_algorithm_result(exact_result)\n",
    "    \n",
    "    #VQE\n",
    "    optimizer = SLSQP(maxiter=1000)\n",
    "    initial_state = HartreeFock(operator.molecule_info['num_orbitals'],\n",
    "                               operator_molecule_info['num_particles'],\n",
    "                               qubit_mapping=operator._qubit_mapping,\n",
    "                               two_qubit_reduction=operator._two_qubit_reduction)\n",
    "    var_form = UCCSD(num_orbitals=operator.molecule_info['num_orbitals'],\n",
    "                    num_particles=operator.molecule_info['num_particles'],\n",
    "                    initial_state=initial_state,\n",
    "                    qubit_mapping=operator._qubit_mapping,\n",
    "                    two_qubit_reduction=operator._two_qubit_reduction)\n",
    "    algo = VQE(qubit_op, var_form, optimizer, aux_operators=aux_ops)\n",
    "    \n",
    "    vqe_result = algo.run(QuantumInstance(BasicAer.get_backend('statevector_similator')))\n",
    "    vqe_result = operator.process_algorithm_result(vqe_result)\n",
    "    \n",
    "    exact_energies.append(exact_result.energy)\n",
    "    vqe_energies.append(vqe_result.energy)\n",
    "    hf_energies.append(vqe_result.hertree_fock_energy)\n",
    "    "
   ]
  },
  {
   "cell_type": "code",
   "execution_count": null,
   "id": "3619bac1",
   "metadata": {},
   "outputs": [],
   "source": [
    "pylab.plot(distance,hf_energies, label='Hartree-Fork')\n",
    "pylab.plot(distance,vqe_energies, 'o', label='VQE')\n",
    "pylab.plot(distance,exact_energies, 'x', label='Exact')\n",
    "\n",
    "pylab.xlabel('Interatomic distance')\n",
    "pylab.ylabel('Energy')\n",
    "pylab.title('LiH Ground State Energy')\n",
    "pylab.Legend(loc='upper right')"
   ]
  }
 ],
 "metadata": {
  "kernelspec": {
   "display_name": "Python 3 (ipykernel)",
   "language": "python",
   "name": "python3"
  },
  "language_info": {
   "codemirror_mode": {
    "name": "ipython",
    "version": 3
   },
   "file_extension": ".py",
   "mimetype": "text/x-python",
   "name": "python",
   "nbconvert_exporter": "python",
   "pygments_lexer": "ipython3",
   "version": "3.8.10"
  }
 },
 "nbformat": 4,
 "nbformat_minor": 5
}
