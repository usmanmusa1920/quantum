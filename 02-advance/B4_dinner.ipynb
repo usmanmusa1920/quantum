{
 "cells": [
  {
   "cell_type": "code",
   "execution_count": 1,
   "id": "c19361be-1fa6-4cd0-9b4d-31affe3155da",
   "metadata": {},
   "outputs": [
    {
     "data": {
      "text/plain": [
       "{'qiskit-terra': '0.19.2', 'qiskit-aer': '0.10.3', 'qiskit-ignis': '0.7.0', 'qiskit-ibmq-provider': '0.18.3', 'qiskit-aqua': None, 'qiskit': '0.34.2', 'qiskit-nature': None, 'qiskit-finance': None, 'qiskit-optimization': None, 'qiskit-machine-learning': None}"
      ]
     },
     "execution_count": 1,
     "metadata": {},
     "output_type": "execute_result"
    }
   ],
   "source": [
    "import qiskit\n",
    "qiskit.__qiskit_version__"
   ]
  },
  {
   "cell_type": "code",
   "execution_count": 42,
   "id": "0357e353-4859-480c-a2b3-c2bc60f430c5",
   "metadata": {},
   "outputs": [],
   "source": [
    "# Dinner party using grovers algorithm\n",
    "# Satisfiability problem (constraints)\n",
    "\n",
    "from qiskit import BasicAer\n",
    "# from qiskit.aqua.algorithm import Grover\n",
    "from qiskit.algorithms import Grover\n",
    "# from qiskit.aqua.components.oracles import LogicalExpressionOracle\n",
    "from qiskit.circuit.library import PhaseOracle\n",
    "from qiskit.tools.visualization import plot_histogram, plot_state_city"
   ]
  },
  {
   "cell_type": "code",
   "execution_count": 43,
   "id": "0d0fc3fe-441a-47d2-b92e-c723efab769d",
   "metadata": {},
   "outputs": [],
   "source": [
    "log_expr = '((Usman & Mami) | (Yusuf & Adam)) & ~(Mami & Adam)'\n",
    "# algorithm = Grover(LogicalExpressionOracle(log_expr))\n",
    "algorithm = Grover(PhaseOracle(log_expr))"
   ]
  },
  {
   "cell_type": "code",
   "execution_count": 44,
   "id": "5fd8f637-d674-4f13-8ccc-a758e2bf1973",
   "metadata": {},
   "outputs": [],
   "source": [
    "backend = BasicAer.get_backend('qasm_simulator')"
   ]
  },
  {
   "cell_type": "code",
   "execution_count": 50,
   "id": "1886e42f-29e6-42ff-8522-7f78c28e6826",
   "metadata": {},
   "outputs": [
    {
     "ename": "AttributeError",
     "evalue": "'Grover' object has no attribute 'run'",
     "output_type": "error",
     "traceback": [
      "\u001b[0;31m---------------------------------------------------------------------------\u001b[0m",
      "\u001b[0;31mAttributeError\u001b[0m                            Traceback (most recent call last)",
      "Input \u001b[0;32mIn [50]\u001b[0m, in \u001b[0;36m<module>\u001b[0;34m\u001b[0m\n\u001b[0;32m----> 1\u001b[0m result \u001b[38;5;241m=\u001b[39m \u001b[43malgorithm\u001b[49m\u001b[38;5;241;43m.\u001b[39;49m\u001b[43mrun\u001b[49m(backend)\n",
      "\u001b[0;31mAttributeError\u001b[0m: 'Grover' object has no attribute 'run'"
     ]
    }
   ],
   "source": [
    "result = algorithm.run(backend)\n",
    "# result = algorithm.amplify(backend)"
   ]
  },
  {
   "cell_type": "code",
   "execution_count": null,
   "id": "087986dd-7a00-496b-906b-3ae0e989ad3f",
   "metadata": {},
   "outputs": [],
   "source": [
    "# plot_state_city(result['measurement'], title=\"Possible party combinations\", bar_labels=True)\n",
    "plot_histogram(result['measurement'], title=\"Possible party combinations\", bar_labels=True)"
   ]
  }
 ],
 "metadata": {
  "kernelspec": {
   "display_name": "Python 3 (ipykernel)",
   "language": "python",
   "name": "python3"
  },
  "language_info": {
   "codemirror_mode": {
    "name": "ipython",
    "version": 3
   },
   "file_extension": ".py",
   "mimetype": "text/x-python",
   "name": "python",
   "nbconvert_exporter": "python",
   "pygments_lexer": "ipython3",
   "version": "3.8.10"
  }
 },
 "nbformat": 4,
 "nbformat_minor": 5
}
