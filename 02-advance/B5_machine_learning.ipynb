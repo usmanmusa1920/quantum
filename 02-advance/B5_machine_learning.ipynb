{
 "cells": [
  {
   "cell_type": "code",
   "execution_count": 11,
   "id": "28a65f75-31dc-4dc1-a99c-c60dac485361",
   "metadata": {},
   "outputs": [
    {
     "data": {
      "text/plain": [
       "{'qiskit-terra': '0.19.2', 'qiskit-aer': '0.10.3', 'qiskit-ignis': '0.7.0', 'qiskit-ibmq-provider': '0.18.3', 'qiskit-aqua': None, 'qiskit': '0.34.2', 'qiskit-nature': None, 'qiskit-finance': None, 'qiskit-optimization': None, 'qiskit-machine-learning': None}"
      ]
     },
     "execution_count": 11,
     "metadata": {},
     "output_type": "execute_result"
    }
   ],
   "source": [
    "# Quantum machine learning\n",
    "# the example: quantum support vector machine\n",
    "\n",
    "# first install\n",
    "# pip install qiskit-aqua[cvx]\n",
    "\n",
    "import qiskit\n",
    "qiskit.__qiskit_version__"
   ]
  },
  {
   "cell_type": "code",
   "execution_count": 12,
   "id": "ae242b89-cb76-4c99-bfa0-563244d32fdd",
   "metadata": {},
   "outputs": [
    {
     "ename": "ModuleNotFoundError",
     "evalue": "No module named 'qiskit.ml'",
     "output_type": "error",
     "traceback": [
      "\u001b[0;31m---------------------------------------------------------------------------\u001b[0m",
      "\u001b[0;31mModuleNotFoundError\u001b[0m                       Traceback (most recent call last)",
      "Input \u001b[0;32mIn [12]\u001b[0m, in \u001b[0;36m<module>\u001b[0;34m\u001b[0m\n\u001b[1;32m      1\u001b[0m \u001b[38;5;28;01mfrom\u001b[39;00m \u001b[38;5;21;01mmatplotlib\u001b[39;00m \u001b[38;5;28;01mimport\u001b[39;00m pyplot \u001b[38;5;28;01mas\u001b[39;00m plt\n\u001b[1;32m      2\u001b[0m \u001b[38;5;28;01mimport\u001b[39;00m \u001b[38;5;21;01mnumpy\u001b[39;00m \u001b[38;5;28;01mas\u001b[39;00m \u001b[38;5;21;01mnp\u001b[39;00m\n\u001b[0;32m----> 3\u001b[0m \u001b[38;5;28;01mfrom\u001b[39;00m \u001b[38;5;21;01mqiskit\u001b[39;00m\u001b[38;5;21;01m.\u001b[39;00m\u001b[38;5;21;01mml\u001b[39;00m\u001b[38;5;21;01m.\u001b[39;00m\u001b[38;5;21;01mdataset\u001b[39;00m \u001b[38;5;28;01mimport\u001b[39;00m ad_hoc_data\n\u001b[1;32m      4\u001b[0m \u001b[38;5;28;01mfrom\u001b[39;00m \u001b[38;5;21;01mqiskit\u001b[39;00m \u001b[38;5;28;01mimport\u001b[39;00m BasicAer\n\u001b[1;32m      6\u001b[0m \u001b[38;5;66;03m# from qiskit.aqua import QuantumInstance\u001b[39;00m\n",
      "\u001b[0;31mModuleNotFoundError\u001b[0m: No module named 'qiskit.ml'"
     ]
    }
   ],
   "source": [
    "from matplotlib import pyplot as plt\n",
    "import numpy as np\n",
    "from qiskit.ml.dataset import ad_hoc_data\n",
    "from qiskit import BasicAer\n",
    "\n",
    "# from qiskit.aqua import QuantumInstance\n",
    "from qiskit.utils import QuantumInstance\n",
    "\n",
    "from qiskit.circuit.library import ZZFeatureMap\n",
    "# from qiskit.aqua.algorithm import QSVM\n",
    "from qiskit.algorithms import QSVM\n",
    "\n",
    "from qiskit.aqua.utils import split_dataset_to_data_and_labels, map_label_to_class_name"
   ]
  },
  {
   "cell_type": "code",
   "execution_count": null,
   "id": "8be4626e-30b8-4b61-a3f5-08e369b88eb3",
   "metadata": {},
   "outputs": [],
   "source": [
    "feature_dim = 2\n",
    "training_dataset_size = 20\n",
    "testing_dataset_size = 10\n",
    "random_seed = 10598\n",
    "shot = 10000\n",
    "\n",
    "sample_Total, training_input, test_input, class_labels = ad_hoc_data(training_size=,\n",
    "                                        test_size=testing_dataset_size, gap=0.3, n=feature_dim,\n",
    "                                        plot_data=True)\n",
    "datapoints, class_to_label = split_dataset_to_data_and_labels(test_input)\n",
    "print(class_to_label)"
   ]
  },
  {
   "cell_type": "code",
   "execution_count": null,
   "id": "62a5ea5f-ee67-4b00-b1bc-63c4714507d7",
   "metadata": {},
   "outputs": [],
   "source": [
    "backend = BasicAer.get_backend('qasm_simulator')\n",
    "feature_map = ZZFeatureMap(feature_dim, reps=2)\n",
    "svm = QSVM(feature_map, training_input, test_input, None)\n",
    "svm.random_seed = random_seed\n",
    "quantum_instance = QuantumInstance(backend, shots=shot, seed_simulator=random_seed,\n",
    "                                  seed_transpiler=random_seed)\n",
    "result = svm.run(quantum_instance)"
   ]
  },
  {
   "cell_type": "code",
   "execution_count": null,
   "id": "93890ba0-2e9e-4f99-9200-109301897e4c",
   "metadata": {},
   "outputs": [],
   "source": [
    "print(\"kernel matrix during the training:\")\n",
    "kernel_matrix = result(\"kernel_matrix_training\")\n",
    "img = plt.imshow(np.asmatrix(kernel_matrix), interpolation='nearest',\n",
    "                 origin='upper', cmap='bone_r')\n",
    "plt.show()"
   ]
  },
  {
   "cell_type": "code",
   "execution_count": null,
   "id": "2dc507c6-63bc-4c18-bca6-54afcf50fda7",
   "metadata": {},
   "outputs": [],
   "source": [
    "predicted_labels = svm.predict(datapoints[0])\n",
    "predicted_classes = map_label_to_class_name(predicted_labels, svm.label_to_class)\n",
    "print(\"ground truth: {}\".format(datapoints[1]))\n",
    "print(\"prediction: {}\".format(predicted_labels))\n",
    "print(\"testing success ratio: \", result['testing_accuracy'])"
   ]
  }
 ],
 "metadata": {
  "kernelspec": {
   "display_name": "Python 3 (ipykernel)",
   "language": "python",
   "name": "python3"
  },
  "language_info": {
   "codemirror_mode": {
    "name": "ipython",
    "version": 3
   },
   "file_extension": ".py",
   "mimetype": "text/x-python",
   "name": "python",
   "nbconvert_exporter": "python",
   "pygments_lexer": "ipython3",
   "version": "3.8.10"
  }
 },
 "nbformat": 4,
 "nbformat_minor": 5
}
